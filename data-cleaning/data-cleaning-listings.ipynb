{
 "cells": [
  {
   "cell_type": "markdown",
   "metadata": {
    "collapsed": true
   },
   "source": [
    "# 1A. Data Cleaning: Airbnb Listings\n",
    "<hr/>\n",
    "\n",
    "`Listings.cvs` contains detailed listings data, including various attributes (features) of each listing such as location, number of bedrooms, bathrooms, type of bed, reviews, etc for the month of January. The raw data contains 27,392 records and 52 columns. We will first load the data into a Pandas dataframe; however, not all of these columns are applicable for predicting listing prices. We will select the applicable predictors as follows:\n",
    "\n",
    "### Column Selection\n",
    "\n",
    "#### Selected Columns\n",
    "- id\n",
    "    - will not be used in the prediction, only used for indexing and referencing purposes\n",
    "- host_id\n",
    "    - will not be used in the prediction, only used for indexing and referencing purposes\n",
    "- zipcode\n",
    "- property_type\n",
    "- room_type\n",
    "- accommodates\n",
    "- bathrooms\n",
    "- bedrooms\n",
    "- beds\n",
    "- bed_type\n",
    "- price\n",
    "- minimum_nights\n",
    "- availability_30\n",
    "- number_of_reviews\n",
    "- review_scores_rating\n",
    "- host_listing_count\n",
    "    \n",
    "#### Removed Columns\n",
    "- scrape_id\n",
    "- last_scraped\n",
    "- name (title used in the listing)\n",
    "- picture_url\n",
    "    - future studies may choose to integrate image analysis as a predictor\n",
    "- host_name\n",
    "    - there may certainly be some predictive power when considering gender / ethnicity of the name; however, we chose not to incorporate host_name for various ethical reasons as well as difficulty in discerning gender neutral names let alone ethnicity from a name\n",
    "- host_since\n",
    "    - better explained by number of reviews since a long time host may not actually have made any listings made over that period of time\n",
    "- host_picture_url\n",
    "- street\n",
    "- neighbourhood\n",
    "- neighbourhood_cleansed\n",
    "- city\n",
    "- state\n",
    "    - these location features are better explained by zipcode, which will be easier to turn into a hot encoding as well. By using zipcode we can worry less and mitigate the effects of inaccurate location listings (captured by `is_location_exact` predictor) as a broader location category is used and for Airbnb the zipcode integrity is very often reliable by nature of the address input\n",
    "- market\n",
    "- country\n",
    "- latitude\n",
    "- longitude\n",
    "    - location again better explained by zipcode\n",
    "- is_location_exact\n",
    "    - by using zipcode the exactness of location is mitigated (many records were indeed exact)\n",
    "- square_feet\n",
    "    - had 26,000+ (96% of original dataset) missing column values - too many to impute\n",
    "- weekly_price\n",
    "- monthly_price\n",
    "    - `weekly` and `monthly` removed since we are focusing on single day listings\n",
    "- guests_included\n",
    "    - guests have their own price column that is calculated independently of the listing price\n",
    "- extra_people\n",
    "- maximum_nights\n",
    "- calendar_updated\n",
    "- calendar_last_scraped\n",
    "- first_review\n",
    "- last_review\n",
    "- review_score_accuracy <-> review_scores_value"
   ]
  },
  {
   "cell_type": "code",
   "execution_count": 1,
   "metadata": {
    "collapsed": false
   },
   "outputs": [],
   "source": [
    "import pandas as pd\n",
    "import numpy as np\n",
    "import matplotlib\n",
    "import seaborn as sb\n",
    "import matplotlib.pyplot as plt\n",
    "import matplotlib.cm as cmx\n",
    "import matplotlib.colors as colors\n",
    "import math\n",
    "import pylab\n",
    "import scipy.stats as stats\n",
    "%matplotlib inline"
   ]
  },
  {
   "cell_type": "code",
   "execution_count": 2,
   "metadata": {
    "collapsed": false
   },
   "outputs": [],
   "source": [
    "cols = [\n",
    "    'id',\n",
    "    'host_id',\n",
    "    'zipcode',\n",
    "    'property_type',\n",
    "    'room_type',\n",
    "    'accommodates',\n",
    "    'bedrooms',\n",
    "    'beds',\n",
    "    'bed_type',\n",
    "    'price',\n",
    "    'number_of_reviews',\n",
    "    'review_scores_rating',\n",
    "    'host_listing_count',\n",
    "    'availability_30',\n",
    "    'minimum_nights',\n",
    "    'bathrooms'\n",
    "]\n",
    "\n",
    "data = pd.read_csv('../datasets/raw_datasets/listings.csv', usecols=cols)"
   ]
  },
  {
   "cell_type": "code",
   "execution_count": 3,
   "metadata": {
    "collapsed": false
   },
   "outputs": [
    {
     "data": {
      "text/html": [
       "<div>\n",
       "<table border=\"1\" class=\"dataframe\">\n",
       "  <thead>\n",
       "    <tr style=\"text-align: right;\">\n",
       "      <th></th>\n",
       "      <th>id</th>\n",
       "      <th>host_id</th>\n",
       "      <th>zipcode</th>\n",
       "      <th>property_type</th>\n",
       "      <th>room_type</th>\n",
       "      <th>accommodates</th>\n",
       "      <th>bathrooms</th>\n",
       "      <th>bedrooms</th>\n",
       "      <th>beds</th>\n",
       "      <th>bed_type</th>\n",
       "      <th>price</th>\n",
       "      <th>minimum_nights</th>\n",
       "      <th>availability_30</th>\n",
       "      <th>number_of_reviews</th>\n",
       "      <th>review_scores_rating</th>\n",
       "      <th>host_listing_count</th>\n",
       "    </tr>\n",
       "  </thead>\n",
       "  <tbody>\n",
       "    <tr>\n",
       "      <th>0</th>\n",
       "      <td>1069266</td>\n",
       "      <td>5867023</td>\n",
       "      <td>10022-4175</td>\n",
       "      <td>Apartment</td>\n",
       "      <td>Entire home/apt</td>\n",
       "      <td>2</td>\n",
       "      <td>1.0</td>\n",
       "      <td>1.0</td>\n",
       "      <td>1.0</td>\n",
       "      <td>Real Bed</td>\n",
       "      <td>$160.00</td>\n",
       "      <td>3</td>\n",
       "      <td>21</td>\n",
       "      <td>62</td>\n",
       "      <td>86.0</td>\n",
       "      <td>1</td>\n",
       "    </tr>\n",
       "    <tr>\n",
       "      <th>1</th>\n",
       "      <td>1846722</td>\n",
       "      <td>2631556</td>\n",
       "      <td>NaN</td>\n",
       "      <td>Apartment</td>\n",
       "      <td>Entire home/apt</td>\n",
       "      <td>10</td>\n",
       "      <td>1.0</td>\n",
       "      <td>3.0</td>\n",
       "      <td>3.0</td>\n",
       "      <td>Real Bed</td>\n",
       "      <td>$105.00</td>\n",
       "      <td>1</td>\n",
       "      <td>28</td>\n",
       "      <td>22</td>\n",
       "      <td>85.0</td>\n",
       "      <td>2</td>\n",
       "    </tr>\n",
       "    <tr>\n",
       "      <th>2</th>\n",
       "      <td>2061725</td>\n",
       "      <td>4601412</td>\n",
       "      <td>11221</td>\n",
       "      <td>Apartment</td>\n",
       "      <td>Private room</td>\n",
       "      <td>2</td>\n",
       "      <td>1.0</td>\n",
       "      <td>1.0</td>\n",
       "      <td>2.0</td>\n",
       "      <td>Real Bed</td>\n",
       "      <td>$58.00</td>\n",
       "      <td>3</td>\n",
       "      <td>4</td>\n",
       "      <td>35</td>\n",
       "      <td>98.0</td>\n",
       "      <td>4</td>\n",
       "    </tr>\n",
       "    <tr>\n",
       "      <th>3</th>\n",
       "      <td>44974</td>\n",
       "      <td>198425</td>\n",
       "      <td>10011</td>\n",
       "      <td>Apartment</td>\n",
       "      <td>Entire home/apt</td>\n",
       "      <td>2</td>\n",
       "      <td>1.0</td>\n",
       "      <td>1.0</td>\n",
       "      <td>1.0</td>\n",
       "      <td>Real Bed</td>\n",
       "      <td>$185.00</td>\n",
       "      <td>10</td>\n",
       "      <td>1</td>\n",
       "      <td>26</td>\n",
       "      <td>96.0</td>\n",
       "      <td>1</td>\n",
       "    </tr>\n",
       "    <tr>\n",
       "      <th>4</th>\n",
       "      <td>4701675</td>\n",
       "      <td>22590025</td>\n",
       "      <td>10011</td>\n",
       "      <td>Apartment</td>\n",
       "      <td>Entire home/apt</td>\n",
       "      <td>2</td>\n",
       "      <td>1.0</td>\n",
       "      <td>1.0</td>\n",
       "      <td>2.0</td>\n",
       "      <td>Real Bed</td>\n",
       "      <td>$195.00</td>\n",
       "      <td>1</td>\n",
       "      <td>30</td>\n",
       "      <td>1</td>\n",
       "      <td>100.0</td>\n",
       "      <td>1</td>\n",
       "    </tr>\n",
       "  </tbody>\n",
       "</table>\n",
       "</div>"
      ],
      "text/plain": [
       "        id   host_id     zipcode property_type        room_type  accommodates  \\\n",
       "0  1069266   5867023  10022-4175     Apartment  Entire home/apt             2   \n",
       "1  1846722   2631556         NaN     Apartment  Entire home/apt            10   \n",
       "2  2061725   4601412       11221     Apartment     Private room             2   \n",
       "3    44974    198425       10011     Apartment  Entire home/apt             2   \n",
       "4  4701675  22590025       10011     Apartment  Entire home/apt             2   \n",
       "\n",
       "   bathrooms  bedrooms  beds  bed_type     price  minimum_nights  \\\n",
       "0        1.0       1.0   1.0  Real Bed  $160.00                3   \n",
       "1        1.0       3.0   3.0  Real Bed  $105.00                1   \n",
       "2        1.0       1.0   2.0  Real Bed   $58.00                3   \n",
       "3        1.0       1.0   1.0  Real Bed  $185.00               10   \n",
       "4        1.0       1.0   2.0  Real Bed  $195.00                1   \n",
       "\n",
       "   availability_30  number_of_reviews  review_scores_rating  \\\n",
       "0               21                 62                  86.0   \n",
       "1               28                 22                  85.0   \n",
       "2                4                 35                  98.0   \n",
       "3                1                 26                  96.0   \n",
       "4               30                  1                 100.0   \n",
       "\n",
       "   host_listing_count  \n",
       "0                   1  \n",
       "1                   2  \n",
       "2                   4  \n",
       "3                   1  \n",
       "4                   1  "
      ]
     },
     "execution_count": 3,
     "metadata": {},
     "output_type": "execute_result"
    }
   ],
   "source": [
    "data.head()"
   ]
  },
  {
   "cell_type": "code",
   "execution_count": 4,
   "metadata": {
    "collapsed": false
   },
   "outputs": [
    {
     "name": "stdout",
     "output_type": "stream",
     "text": [
      "id, Number of Missing Values: 0\n",
      "host_id, Number of Missing Values: 0\n",
      "zipcode, Number of Missing Values: 162\n",
      "property_type, Number of Missing Values: 6\n",
      "room_type, Number of Missing Values: 0\n",
      "accommodates, Number of Missing Values: 0\n",
      "bathrooms, Number of Missing Values: 463\n",
      "bedrooms, Number of Missing Values: 140\n",
      "beds, Number of Missing Values: 98\n",
      "bed_type, Number of Missing Values: 0\n",
      "price, Number of Missing Values: 0\n",
      "minimum_nights, Number of Missing Values: 0\n",
      "availability_30, Number of Missing Values: 0\n",
      "number_of_reviews, Number of Missing Values: 0\n",
      "review_scores_rating, Number of Missing Values: 8657\n",
      "host_listing_count, Number of Missing Values: 0\n"
     ]
    }
   ],
   "source": [
    "# determine the number of missing entries in each column\n",
    "for col in data.columns:\n",
    "    print col + ', Number of Missing Values:', len(data[col][data[col].isnull()])"
   ]
  },
  {
   "cell_type": "markdown",
   "metadata": {},
   "source": [
    "### Data Cleaning\n",
    "\n",
    "1. We drop any entries that are missing (NaN) values (except for review_scores_rating).\n",
    "2. We convert the format in `price` from $1.00 into a float of 1.00. \n",
    "3. We also drop any entries that are inconsistent; i.e. predictors `accommodates`, `bedrooms`, `beds`, or `price` with a value of 0.\n",
    "4. Convert ZipCode values such as 10022-4175 into 10022"
   ]
  },
  {
   "cell_type": "code",
   "execution_count": 5,
   "metadata": {
    "collapsed": false
   },
   "outputs": [
    {
     "name": "stdout",
     "output_type": "stream",
     "text": [
      "Number of NaN values removed: 769\n",
      "Number of Accommodates 0: 0\n",
      "Number of Bedrooms 0: 2321\n",
      "Number of Beds 0: 0\n",
      "Number of Listings with Price $0.00: 0\n"
     ]
    }
   ],
   "source": [
    "# remove NaN values from dataframe\n",
    "original = len(data)\n",
    "data = data.dropna(how='any', subset=['zipcode', 'property_type', 'bedrooms', 'beds', 'bathrooms'])\n",
    "print 'Number of NaN values removed:', original - len(data)\n",
    "\n",
    "# convert formatting for price\n",
    "data['price'] = (data['price'].str.replace(r'[^-+\\d.]', '').astype(float))\n",
    "\n",
    "# drop any inconsistent values\n",
    "print 'Number of Accommodates 0:', len(data[data['accommodates'] == 0])\n",
    "print 'Number of Bedrooms 0:', len(data[data['bedrooms'] == 0])\n",
    "print 'Number of Beds 0:', len(data[data['beds'] == 0])\n",
    "print 'Number of Listings with Price $0.00:', len(data[data['price'] == 0.00])\n",
    "\n",
    "data = data[data['accommodates'] != 0]\n",
    "data = data[data['bedrooms'] != 0]\n",
    "data = data[data['beds'] != 0]\n",
    "data = data[data['price'] != 0.00]\n",
    "\n",
    "# convert ZipCode\n",
    "data['zipcode'] = data['zipcode'].str.replace(r'-\\d+', '')"
   ]
  },
  {
   "cell_type": "code",
   "execution_count": 6,
   "metadata": {
    "collapsed": false
   },
   "outputs": [
    {
     "data": {
      "text/html": [
       "<div>\n",
       "<table border=\"1\" class=\"dataframe\">\n",
       "  <thead>\n",
       "    <tr style=\"text-align: right;\">\n",
       "      <th></th>\n",
       "      <th>id</th>\n",
       "      <th>host_id</th>\n",
       "      <th>zipcode</th>\n",
       "      <th>property_type</th>\n",
       "      <th>room_type</th>\n",
       "      <th>accommodates</th>\n",
       "      <th>bathrooms</th>\n",
       "      <th>bedrooms</th>\n",
       "      <th>beds</th>\n",
       "      <th>bed_type</th>\n",
       "      <th>price</th>\n",
       "      <th>minimum_nights</th>\n",
       "      <th>availability_30</th>\n",
       "      <th>number_of_reviews</th>\n",
       "      <th>review_scores_rating</th>\n",
       "      <th>host_listing_count</th>\n",
       "    </tr>\n",
       "  </thead>\n",
       "  <tbody>\n",
       "    <tr>\n",
       "      <th>0</th>\n",
       "      <td>1069266</td>\n",
       "      <td>5867023</td>\n",
       "      <td>10022</td>\n",
       "      <td>Apartment</td>\n",
       "      <td>Entire home/apt</td>\n",
       "      <td>2</td>\n",
       "      <td>1.0</td>\n",
       "      <td>1.0</td>\n",
       "      <td>1.0</td>\n",
       "      <td>Real Bed</td>\n",
       "      <td>160.0</td>\n",
       "      <td>3</td>\n",
       "      <td>21</td>\n",
       "      <td>62</td>\n",
       "      <td>86.0</td>\n",
       "      <td>1</td>\n",
       "    </tr>\n",
       "    <tr>\n",
       "      <th>2</th>\n",
       "      <td>2061725</td>\n",
       "      <td>4601412</td>\n",
       "      <td>11221</td>\n",
       "      <td>Apartment</td>\n",
       "      <td>Private room</td>\n",
       "      <td>2</td>\n",
       "      <td>1.0</td>\n",
       "      <td>1.0</td>\n",
       "      <td>2.0</td>\n",
       "      <td>Real Bed</td>\n",
       "      <td>58.0</td>\n",
       "      <td>3</td>\n",
       "      <td>4</td>\n",
       "      <td>35</td>\n",
       "      <td>98.0</td>\n",
       "      <td>4</td>\n",
       "    </tr>\n",
       "    <tr>\n",
       "      <th>3</th>\n",
       "      <td>44974</td>\n",
       "      <td>198425</td>\n",
       "      <td>10011</td>\n",
       "      <td>Apartment</td>\n",
       "      <td>Entire home/apt</td>\n",
       "      <td>2</td>\n",
       "      <td>1.0</td>\n",
       "      <td>1.0</td>\n",
       "      <td>1.0</td>\n",
       "      <td>Real Bed</td>\n",
       "      <td>185.0</td>\n",
       "      <td>10</td>\n",
       "      <td>1</td>\n",
       "      <td>26</td>\n",
       "      <td>96.0</td>\n",
       "      <td>1</td>\n",
       "    </tr>\n",
       "    <tr>\n",
       "      <th>4</th>\n",
       "      <td>4701675</td>\n",
       "      <td>22590025</td>\n",
       "      <td>10011</td>\n",
       "      <td>Apartment</td>\n",
       "      <td>Entire home/apt</td>\n",
       "      <td>2</td>\n",
       "      <td>1.0</td>\n",
       "      <td>1.0</td>\n",
       "      <td>2.0</td>\n",
       "      <td>Real Bed</td>\n",
       "      <td>195.0</td>\n",
       "      <td>1</td>\n",
       "      <td>30</td>\n",
       "      <td>1</td>\n",
       "      <td>100.0</td>\n",
       "      <td>1</td>\n",
       "    </tr>\n",
       "    <tr>\n",
       "      <th>5</th>\n",
       "      <td>68914</td>\n",
       "      <td>343302</td>\n",
       "      <td>11231</td>\n",
       "      <td>Apartment</td>\n",
       "      <td>Entire home/apt</td>\n",
       "      <td>6</td>\n",
       "      <td>1.0</td>\n",
       "      <td>2.0</td>\n",
       "      <td>3.0</td>\n",
       "      <td>Real Bed</td>\n",
       "      <td>165.0</td>\n",
       "      <td>2</td>\n",
       "      <td>11</td>\n",
       "      <td>16</td>\n",
       "      <td>96.0</td>\n",
       "      <td>2</td>\n",
       "    </tr>\n",
       "  </tbody>\n",
       "</table>\n",
       "</div>"
      ],
      "text/plain": [
       "        id   host_id zipcode property_type        room_type  accommodates  \\\n",
       "0  1069266   5867023   10022     Apartment  Entire home/apt             2   \n",
       "2  2061725   4601412   11221     Apartment     Private room             2   \n",
       "3    44974    198425   10011     Apartment  Entire home/apt             2   \n",
       "4  4701675  22590025   10011     Apartment  Entire home/apt             2   \n",
       "5    68914    343302   11231     Apartment  Entire home/apt             6   \n",
       "\n",
       "   bathrooms  bedrooms  beds  bed_type  price  minimum_nights  \\\n",
       "0        1.0       1.0   1.0  Real Bed  160.0               3   \n",
       "2        1.0       1.0   2.0  Real Bed   58.0               3   \n",
       "3        1.0       1.0   1.0  Real Bed  185.0              10   \n",
       "4        1.0       1.0   2.0  Real Bed  195.0               1   \n",
       "5        1.0       2.0   3.0  Real Bed  165.0               2   \n",
       "\n",
       "   availability_30  number_of_reviews  review_scores_rating  \\\n",
       "0               21                 62                  86.0   \n",
       "2                4                 35                  98.0   \n",
       "3                1                 26                  96.0   \n",
       "4               30                  1                 100.0   \n",
       "5               11                 16                  96.0   \n",
       "\n",
       "   host_listing_count  \n",
       "0                   1  \n",
       "2                   4  \n",
       "3                   1  \n",
       "4                   1  \n",
       "5                   2  "
      ]
     },
     "execution_count": 6,
     "metadata": {},
     "output_type": "execute_result"
    }
   ],
   "source": [
    "# we see the data is now clean\n",
    "data.head()"
   ]
  },
  {
   "cell_type": "code",
   "execution_count": 7,
   "metadata": {
    "collapsed": false
   },
   "outputs": [
    {
     "name": "stdout",
     "output_type": "stream",
     "text": [
      "Number of missing review scores ratings: 7712\n"
     ]
    }
   ],
   "source": [
    "print 'Number of missing review scores ratings:', len(data['review_scores_rating'][data['review_scores_rating'].isnull()])"
   ]
  },
  {
   "cell_type": "code",
   "execution_count": 8,
   "metadata": {
    "collapsed": false
   },
   "outputs": [
    {
     "name": "stdout",
     "output_type": "stream",
     "text": [
      "Number of Unique Accomodation:  [ 1  2  3  4  5  6  7  8  9 10 11 12 13 14 15 16]\n",
      "Accommodation 1: 2643\n",
      "Accommodation 2: 11400\n",
      "Accommodation 3: 2909\n",
      "Accommodation 4: 4278\n",
      "Accommodation 5: 982\n",
      "Accommodation 6: 1214\n",
      "Accommodation 7: 217\n",
      "Accommodation 8: 333\n",
      "Accommodation 9: 57\n",
      "Accommodation 10: 119\n",
      "Accommodation 11: 15\n",
      "Accommodation 12: 43\n",
      "Accommodation 13: 4\n",
      "Accommodation 14: 14\n",
      "Accommodation 15: 5\n",
      "Accommodation 16: 69\n"
     ]
    }
   ],
   "source": [
    "# explore distribution of accommodates\n",
    "print 'Number of Unique Accomodation: ', np.unique(data['accommodates'])\n",
    "for i in range(1, 17):\n",
    "    print 'Accommodation {}:'.format(i), len(data[data['accommodates'] == i])"
   ]
  },
  {
   "cell_type": "code",
   "execution_count": 9,
   "metadata": {
    "collapsed": false
   },
   "outputs": [
    {
     "data": {
      "image/png": "[encoded data removed]",
      "text/plain": [
       "<matplotlib.figure.Figure at 0x103d55d50>"
      ]
     },
     "metadata": {},
     "output_type": "display_data"
    }
   ],
   "source": [
    "# visualize distribution of price (target variable)\n",
    "plt.hist(data['accommodates'], bins=50)\n",
    "plt.title(\"Histogram of Accommodations\")\n",
    "plt.xlabel(\"Number of Accommodations\")\n",
    "plt.ylabel(\"Frequency\")\n",
    "plt.show()"
   ]
  },
  {
   "cell_type": "markdown",
   "metadata": {},
   "source": [
    "We see that a majority of listings have accomodations for 1-4 people. 1 bed typically accomodates 2 individuals, so let's plot beds instead to analyze how many of the listings are single bedroom listings."
   ]
  },
  {
   "cell_type": "code",
   "execution_count": 10,
   "metadata": {
    "collapsed": false
   },
   "outputs": [
    {
     "name": "stdout",
     "output_type": "stream",
     "text": [
      "Number of Unique Beds:  [  1.   2.   3.   4.   5.   6.   7.   8.   9.  10.  11.  12.  13.  14.  16.]\n",
      "Beds 1: 16002\n",
      "Beds 2: 5418\n",
      "Beds 3: 1770\n",
      "Beds 4: 610\n",
      "Beds 5: 243\n",
      "Beds 6: 117\n",
      "Beds 7: 41\n",
      "Beds 8: 22\n",
      "Beds 9: 3\n",
      "Beds 10: 20\n",
      "Beds 11: 4\n",
      "Beds 12: 9\n",
      "Beds 13: 1\n",
      "Beds 14: 15\n",
      "Beds 15: 0\n",
      "Beds 16: 27\n"
     ]
    }
   ],
   "source": [
    "print 'Number of Unique Beds: ', np.unique(data['beds'])\n",
    "for i in range(1, 17):\n",
    "    print 'Beds {}:'.format(i), len(data[data['beds'] == i])"
   ]
  },
  {
   "cell_type": "code",
   "execution_count": 11,
   "metadata": {
    "collapsed": false
   },
   "outputs": [
    {
     "data": {
      "image/png": "[encoded data removed]",
      "text/plain": [
       "<matplotlib.figure.Figure at 0x10a497350>"
      ]
     },
     "metadata": {},
     "output_type": "display_data"
    }
   ],
   "source": [
    "# visualize distribution of beds\n",
    "plt.hist(data['beds'], bins=50)\n",
    "plt.title(\"Histogram of Beds\")\n",
    "plt.xlabel(\"Bed Count\")\n",
    "plt.ylabel(\"Frequency\")\n",
    "plt.show()"
   ]
  },
  {
   "cell_type": "markdown",
   "metadata": {},
   "source": [
    "We see that a majority of our listings are indeed single bedroom listings roughly 66%."
   ]
  },
  {
   "cell_type": "code",
   "execution_count": 12,
   "metadata": {
    "collapsed": false
   },
   "outputs": [
    {
     "data": {
      "image/png": "[encoded data removed]",
      "text/plain": [
       "<matplotlib.figure.Figure at 0x11744a9d0>"
      ]
     },
     "metadata": {},
     "output_type": "display_data"
    }
   ],
   "source": [
    "# visualize distribution of review scores ratings\n",
    "plt.hist(data['review_scores_rating'][~data['review_scores_rating'].isnull()])\n",
    "plt.title(\"Histogram of Review Scores Ratings\")\n",
    "plt.xlabel(\"Review Score\")\n",
    "plt.ylabel(\"Frequency\")\n",
    "plt.show()"
   ]
  },
  {
   "cell_type": "markdown",
   "metadata": {},
   "source": [
    "There are 7712 listings with no review_scores_rating (NaN) values. We will handle this by turning the `review_scores_ratings` into a categorical predictor. Based on the histogram, we see that a vast majority of the listings seem to have overall favorable ratings; i.e. skewed left distribution. We replace any NaN values that have no review with 'No Reviews' and we remove any remaining inconsistent NaN values that have a `number_of_reviews` > 0. We will also convert the `review_scores_ratings` into buckets. We will have the bucket ranges set more closely to a higher review score to accomodate for the skewed left distribution of the review scores."
   ]
  },
  {
   "cell_type": "code",
   "execution_count": 13,
   "metadata": {
    "collapsed": false
   },
   "outputs": [],
   "source": [
    "# turn NaN scores with 0 reviews into 'No Reviews'\n",
    "idx_vals = data['review_scores_rating'][data['number_of_reviews'] == 0].index.values.tolist()\n",
    "data.loc[idx_vals, ('review_scores_rating')] = data['review_scores_rating'][data['number_of_reviews'] == 0].replace('NaN', 'No Reviews')\n",
    "\n",
    "# remove inconsistent NaN values\n",
    "data = data[~data['review_scores_rating'].isnull()]\n",
    "\n",
    "# ensure all zipcodes are of length 5\n",
    "data = data[data['zipcode'].map(len) == 5]"
   ]
  },
  {
   "cell_type": "code",
   "execution_count": 14,
   "metadata": {
    "collapsed": false
   },
   "outputs": [
    {
     "name": "stdout",
     "output_type": "stream",
     "text": [
      "Unique Values in the Column: ['20-29' '30-39' '40-49' '50-59' '60-69' '70-79' '80-84' '85-89' '90-94'\n",
      " '95-100' 'No Reviews']\n"
     ]
    }
   ],
   "source": [
    "# convert review_scores_rating into buckets\n",
    "def convert_scores_buckets(val):\n",
    "    if val == 'No Reviews':\n",
    "        return 'No Reviews'\n",
    "    elif val >= 95.0:\n",
    "        return '95-100'\n",
    "    elif val >= 90.0 and val < 95.0:\n",
    "        return '90-94'\n",
    "    elif val >= 85.0 and val < 90.0:\n",
    "        return '85-89'\n",
    "    elif val >= 80.0 and val < 85.0:\n",
    "        return '80-84'\n",
    "    elif val >= 70.0 and val < 80.0:\n",
    "        return '70-79'\n",
    "    elif val >= 60.0 and val < 70.0:\n",
    "        return '60-69'\n",
    "    elif val >= 50.0 and val < 60.0:\n",
    "        return '50-59'\n",
    "    elif val >= 40.0 and val < 50.0:\n",
    "        return '40-49'\n",
    "    elif val >= 30.0 and val < 40.0:\n",
    "        return '30-39'\n",
    "    elif val >= 20.0 and val < 30.0:\n",
    "        return '20-29'\n",
    "    elif val >= 10.0 and val < 20.0:\n",
    "        return '10-19'\n",
    "    elif val < 10.0:\n",
    "        return '0-9'\n",
    "    \n",
    "data['review_scores_rating'] = data['review_scores_rating'].apply(convert_scores_buckets)\n",
    "print 'Unique Values in the Column:', np.unique(data['review_scores_rating'])"
   ]
  },
  {
   "cell_type": "code",
   "execution_count": 15,
   "metadata": {
    "collapsed": false
   },
   "outputs": [
    {
     "name": "stdout",
     "output_type": "stream",
     "text": [
      "Number of remaining records: 24050\n"
     ]
    }
   ],
   "source": [
    "print 'Number of remaining records:', len(data)"
   ]
  },
  {
   "cell_type": "markdown",
   "metadata": {},
   "source": [
    "Our dataset is now clean and we no longer have any missing values. We have a total of 24,050 records from the original 27,392; thus, we've retained a reasonable amount of records. We have a few columns that contain categorical predictors. The regressors in scikit learn require numeric fields; thus we will use the `get_dummies` routine in Pandas to convert these into 'dummy' variables (one hot encoding); i.e we will add a column for every possible value of the field. We will standardize the non-categorical predictors and convert them to floating point values since we will later try linear regression models such as Ridge and Lasso regression."
   ]
  },
  {
   "cell_type": "code",
   "execution_count": 16,
   "metadata": {
    "collapsed": false
   },
   "outputs": [
    {
     "name": "stdout",
     "output_type": "stream",
     "text": [
      "Number of Columns: 225\n"
     ]
    }
   ],
   "source": [
    "# encode categorical variables\n",
    "zipcode_dummies = pd.get_dummies(data['zipcode'])\n",
    "property_dummies = pd.get_dummies(data['property_type'])\n",
    "room_dummies = pd.get_dummies(data['room_type'])\n",
    "bed_dummies = pd.get_dummies(data['bed_type'])\n",
    "ratings_scores_dummies = pd.get_dummies(data['review_scores_rating'])\n",
    "\n",
    "# replace the old columns with our new one-hot encoded ones\n",
    "df = pd.concat((data.drop(['zipcode', \\\n",
    "    'property_type', 'room_type', 'bed_type', 'review_scores_rating'], axis=1), \\\n",
    "    zipcode_dummies.astype(int), property_dummies.astype(int), \\\n",
    "    room_dummies.astype(int), bed_dummies.astype(int), ratings_scores_dummies.astype(int)), \\\n",
    "    axis=1)\n",
    "\n",
    "print 'Number of Columns:', len(df.columns)\n",
    "\n",
    "# move target predictor 'price' to the end of the dataframe\n",
    "cols = list(df.columns.values)\n",
    "idx = cols.index('price')\n",
    "rearrange_cols = cols[:idx] + cols[idx+1:] + [cols[idx]]\n",
    "df = df[rearrange_cols]"
   ]
  },
  {
   "cell_type": "code",
   "execution_count": 17,
   "metadata": {
    "collapsed": false
   },
   "outputs": [
    {
     "data": {
      "text/html": [
       "<div>\n",
       "<table border=\"1\" class=\"dataframe\">\n",
       "  <thead>\n",
       "    <tr style=\"text-align: right;\">\n",
       "      <th></th>\n",
       "      <th>id</th>\n",
       "      <th>host_id</th>\n",
       "      <th>accommodates</th>\n",
       "      <th>bathrooms</th>\n",
       "      <th>bedrooms</th>\n",
       "      <th>beds</th>\n",
       "      <th>minimum_nights</th>\n",
       "      <th>availability_30</th>\n",
       "      <th>number_of_reviews</th>\n",
       "      <th>host_listing_count</th>\n",
       "      <th>...</th>\n",
       "      <th>40-49</th>\n",
       "      <th>50-59</th>\n",
       "      <th>60-69</th>\n",
       "      <th>70-79</th>\n",
       "      <th>80-84</th>\n",
       "      <th>85-89</th>\n",
       "      <th>90-94</th>\n",
       "      <th>95-100</th>\n",
       "      <th>No Reviews</th>\n",
       "      <th>price</th>\n",
       "    </tr>\n",
       "  </thead>\n",
       "  <tbody>\n",
       "    <tr>\n",
       "      <th>0</th>\n",
       "      <td>1069266</td>\n",
       "      <td>5867023</td>\n",
       "      <td>-0.520266</td>\n",
       "      <td>-0.331542</td>\n",
       "      <td>-0.407402</td>\n",
       "      <td>-0.493039</td>\n",
       "      <td>0.173906</td>\n",
       "      <td>0.390393</td>\n",
       "      <td>2.716107</td>\n",
       "      <td>-0.355961</td>\n",
       "      <td>...</td>\n",
       "      <td>0</td>\n",
       "      <td>0</td>\n",
       "      <td>0</td>\n",
       "      <td>0</td>\n",
       "      <td>0</td>\n",
       "      <td>1</td>\n",
       "      <td>0</td>\n",
       "      <td>0</td>\n",
       "      <td>0</td>\n",
       "      <td>160.0</td>\n",
       "    </tr>\n",
       "    <tr>\n",
       "      <th>2</th>\n",
       "      <td>2061725</td>\n",
       "      <td>4601412</td>\n",
       "      <td>-0.520266</td>\n",
       "      <td>-0.331542</td>\n",
       "      <td>-0.407402</td>\n",
       "      <td>0.381672</td>\n",
       "      <td>0.173906</td>\n",
       "      <td>-0.965897</td>\n",
       "      <td>1.295605</td>\n",
       "      <td>0.933455</td>\n",
       "      <td>...</td>\n",
       "      <td>0</td>\n",
       "      <td>0</td>\n",
       "      <td>0</td>\n",
       "      <td>0</td>\n",
       "      <td>0</td>\n",
       "      <td>0</td>\n",
       "      <td>0</td>\n",
       "      <td>1</td>\n",
       "      <td>0</td>\n",
       "      <td>58.0</td>\n",
       "    </tr>\n",
       "    <tr>\n",
       "      <th>3</th>\n",
       "      <td>44974</td>\n",
       "      <td>198425</td>\n",
       "      <td>-0.520266</td>\n",
       "      <td>-0.331542</td>\n",
       "      <td>-0.407402</td>\n",
       "      <td>-0.493039</td>\n",
       "      <td>2.889531</td>\n",
       "      <td>-1.205242</td>\n",
       "      <td>0.822104</td>\n",
       "      <td>-0.355961</td>\n",
       "      <td>...</td>\n",
       "      <td>0</td>\n",
       "      <td>0</td>\n",
       "      <td>0</td>\n",
       "      <td>0</td>\n",
       "      <td>0</td>\n",
       "      <td>0</td>\n",
       "      <td>0</td>\n",
       "      <td>1</td>\n",
       "      <td>0</td>\n",
       "      <td>185.0</td>\n",
       "    </tr>\n",
       "    <tr>\n",
       "      <th>4</th>\n",
       "      <td>4701675</td>\n",
       "      <td>22590025</td>\n",
       "      <td>-0.520266</td>\n",
       "      <td>-0.331542</td>\n",
       "      <td>-0.407402</td>\n",
       "      <td>0.381672</td>\n",
       "      <td>-0.601986</td>\n",
       "      <td>1.108429</td>\n",
       "      <td>-0.493176</td>\n",
       "      <td>-0.355961</td>\n",
       "      <td>...</td>\n",
       "      <td>0</td>\n",
       "      <td>0</td>\n",
       "      <td>0</td>\n",
       "      <td>0</td>\n",
       "      <td>0</td>\n",
       "      <td>0</td>\n",
       "      <td>0</td>\n",
       "      <td>1</td>\n",
       "      <td>0</td>\n",
       "      <td>195.0</td>\n",
       "    </tr>\n",
       "    <tr>\n",
       "      <th>5</th>\n",
       "      <td>68914</td>\n",
       "      <td>343302</td>\n",
       "      <td>1.690892</td>\n",
       "      <td>-0.331542</td>\n",
       "      <td>1.266328</td>\n",
       "      <td>1.256383</td>\n",
       "      <td>-0.214040</td>\n",
       "      <td>-0.407424</td>\n",
       "      <td>0.295992</td>\n",
       "      <td>0.073844</td>\n",
       "      <td>...</td>\n",
       "      <td>0</td>\n",
       "      <td>0</td>\n",
       "      <td>0</td>\n",
       "      <td>0</td>\n",
       "      <td>0</td>\n",
       "      <td>0</td>\n",
       "      <td>0</td>\n",
       "      <td>1</td>\n",
       "      <td>0</td>\n",
       "      <td>165.0</td>\n",
       "    </tr>\n",
       "  </tbody>\n",
       "</table>\n",
       "<p>5 rows × 225 columns</p>\n",
       "</div>"
      ],
      "text/plain": [
       "        id   host_id  accommodates  bathrooms  bedrooms      beds  \\\n",
       "0  1069266   5867023     -0.520266  -0.331542 -0.407402 -0.493039   \n",
       "2  2061725   4601412     -0.520266  -0.331542 -0.407402  0.381672   \n",
       "3    44974    198425     -0.520266  -0.331542 -0.407402 -0.493039   \n",
       "4  4701675  22590025     -0.520266  -0.331542 -0.407402  0.381672   \n",
       "5    68914    343302      1.690892  -0.331542  1.266328  1.256383   \n",
       "\n",
       "   minimum_nights  availability_30  number_of_reviews  host_listing_count  \\\n",
       "0        0.173906         0.390393           2.716107           -0.355961   \n",
       "2        0.173906        -0.965897           1.295605            0.933455   \n",
       "3        2.889531        -1.205242           0.822104           -0.355961   \n",
       "4       -0.601986         1.108429          -0.493176           -0.355961   \n",
       "5       -0.214040        -0.407424           0.295992            0.073844   \n",
       "\n",
       "   ...    40-49  50-59  60-69  70-79  80-84  85-89  90-94  95-100  No Reviews  \\\n",
       "0  ...        0      0      0      0      0      1      0       0           0   \n",
       "2  ...        0      0      0      0      0      0      0       1           0   \n",
       "3  ...        0      0      0      0      0      0      0       1           0   \n",
       "4  ...        0      0      0      0      0      0      0       1           0   \n",
       "5  ...        0      0      0      0      0      0      0       1           0   \n",
       "\n",
       "   price  \n",
       "0  160.0  \n",
       "2   58.0  \n",
       "3  185.0  \n",
       "4  195.0  \n",
       "5  165.0  \n",
       "\n",
       "[5 rows x 225 columns]"
      ]
     },
     "execution_count": 17,
     "metadata": {},
     "output_type": "execute_result"
    }
   ],
   "source": [
    "# convert non-categorical variables to floats and standardize\n",
    "def standardize_col(col):\n",
    "    mean = np.mean(col)\n",
    "    std = np.std(col)\n",
    "    return col.apply(lambda x: (x - mean) / std)\n",
    "\n",
    "non_cat_vars = ['accommodates', 'bedrooms', 'beds', 'number_of_reviews', 'host_listing_count', 'availability_30', 'minimum_nights', 'bathrooms']\n",
    "for col in non_cat_vars:\n",
    "    df[col] = df[col].astype(float)\n",
    "    df[col] = standardize_col(df[col])\n",
    "    \n",
    "df.head()"
   ]
  },
  {
   "cell_type": "code",
   "execution_count": 18,
   "metadata": {
    "collapsed": false
   },
   "outputs": [
    {
     "data": {
      "image/png": "[encoded data removed]",
      "text/plain": [
       "<matplotlib.figure.Figure at 0x11b0ca450>"
      ]
     },
     "metadata": {},
     "output_type": "display_data"
    }
   ],
   "source": [
    "# visualize distribution of price (target variable)\n",
    "plt.hist(df['price'], bins=50)\n",
    "plt.title(\"Histogram of Pricing\")\n",
    "plt.xlabel(\"Pricing (USD) Per Day\")\n",
    "plt.ylabel(\"Frequency\")\n",
    "plt.show()"
   ]
  },
  {
   "cell_type": "markdown",
   "metadata": {},
   "source": [
    "We see the distribution for pricing is strongly skewed right. This again makes sense as a majority of the listings on Airbnb are single individual listings. Additionally, Airbnb does strongly cater to travelers who are looking for cheaper places to stay for short durations of time. There are of course listings with a high pricing as well; intuitively this matches with hosts that are listing a high value property such as an entire house. To compensate for the skewed right distribution, we will log the response variable and store the results in a new panda column. We will then run our baseline models on both the logged and original response and compare the results."
   ]
  },
  {
   "cell_type": "code",
   "execution_count": 19,
   "metadata": {
    "collapsed": false
   },
   "outputs": [],
   "source": [
    "# log transform the response 'price'\n",
    "df['price_log'] = df['price'].apply(lambda x: math.log(x))"
   ]
  },
  {
   "cell_type": "code",
   "execution_count": 20,
   "metadata": {
    "collapsed": false
   },
   "outputs": [
    {
     "data": {
      "image/png": "[encoded data removed]",
      "text/plain": [
       "<matplotlib.figure.Figure at 0x11ad791d0>"
      ]
     },
     "metadata": {},
     "output_type": "display_data"
    }
   ],
   "source": [
    "# visualize distribution of price (target variable)\n",
    "plt.hist(df['price_log'], bins=30)\n",
    "plt.title(\"Histogram of Pricing Log-Transformed\")\n",
    "plt.xlabel(\"Pricing (USD) Per Day\")\n",
    "plt.ylabel(\"Frequency\")\n",
    "plt.show()"
   ]
  },
  {
   "cell_type": "code",
   "execution_count": 21,
   "metadata": {
    "collapsed": false
   },
   "outputs": [
    {
     "data": {
      "image/png": "[encoded data removed]",
      "text/plain": [
       "<matplotlib.figure.Figure at 0x11744a590>"
      ]
     },
     "metadata": {},
     "output_type": "display_data"
    }
   ],
   "source": [
    "# qq plot for log-transformed pricing\n",
    "stats.probplot(df['price'], dist=\"norm\", plot=pylab)\n",
    "pylab.show()"
   ]
  },
  {
   "cell_type": "code",
   "execution_count": 22,
   "metadata": {
    "collapsed": false
   },
   "outputs": [
    {
     "data": {
      "image/png": "[encoded data removed]",
      "text/plain": [
       "<matplotlib.figure.Figure at 0x11aebd310>"
      ]
     },
     "metadata": {},
     "output_type": "display_data"
    }
   ],
   "source": [
    "# qq plot for log-transformed pricing\n",
    "stats.probplot(df['price_log'], dist=\"norm\", plot=pylab)\n",
    "pylab.show()"
   ]
  },
  {
   "cell_type": "markdown",
   "metadata": {},
   "source": [
    "We see that after transformation, the distribution for `price` resembles that of a normal distribution. We see from the Q-Q plots that log-transforming the response variable yields a distribution that more closely resembles that of a normal distribution. This normality validation is important in order to fit the assumptions of linear regression models."
   ]
  },
  {
   "cell_type": "code",
   "execution_count": 23,
   "metadata": {
    "collapsed": true
   },
   "outputs": [],
   "source": [
    "# read to csv\n",
    "df.to_csv('../datasets/listings_clean.csv', index=False)"
   ]
  }
 ],
 "metadata": {
  "anaconda-cloud": {},
  "kernelspec": {
   "display_name": "Python [Root]",
   "language": "python",
   "name": "Python [Root]"
  },
  "language_info": {
   "codemirror_mode": {
    "name": "ipython",
    "version": 2
   },
   "file_extension": ".py",
   "mimetype": "text/x-python",
   "name": "python",
   "nbconvert_exporter": "python",
   "pygments_lexer": "ipython2",
   "version": "2.7.12"
  }
 },
 "nbformat": 4,
 "nbformat_minor": 0
}
